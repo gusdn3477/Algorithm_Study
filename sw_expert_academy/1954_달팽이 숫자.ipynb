{
 "cells": [
  {
   "cell_type": "code",
   "execution_count": 1,
   "metadata": {},
   "outputs": [
    {
     "name": "stdout",
     "output_type": "stream",
     "text": [
      "5\n",
      "3\n",
      "#1\n",
      "1 2 3 \n",
      "8 9 4 \n",
      "7 6 5 \n",
      "2\n",
      "#2\n",
      "1 2 \n",
      "4 3 \n",
      "3\n",
      "#3\n",
      "1 2 3 \n",
      "8 9 4 \n",
      "7 6 5 \n",
      "5\n",
      "#4\n",
      "1 2 3 4 5 \n",
      "16 17 18 19 6 \n",
      "15 24 25 20 7 \n",
      "14 23 22 21 8 \n",
      "13 12 11 10 9 \n",
      "6\n",
      "#5\n",
      "1 2 3 4 5 6 \n",
      "20 21 22 23 24 7 \n",
      "19 32 33 34 25 8 \n",
      "18 31 36 35 26 9 \n",
      "17 30 29 28 27 10 \n",
      "16 15 14 13 12 11 \n"
     ]
    }
   ],
   "source": [
    "N = int(input())\n",
    " \n",
    "for q in range(1,N+1):\n",
    "    M = int(input())\n",
    "    a = [[0 for i in range(M)] for j in range(M)]\n",
    " \n",
    "    start = 1\n",
    "    x = 0\n",
    "    y = -1\n",
    "    k = M\n",
    "    s = 1\n",
    "    while start <= M ** 2 :\n",
    "        #x축의 양의 방향으로 증가\n",
    "        for j in range(k):\n",
    "            y = y + s\n",
    "            a[x][y] = start\n",
    "            start = start +1\n",
    " \n",
    "        k = k - 1\n",
    "        for i in range(k):\n",
    "            x = x + s\n",
    "            a[x][y] = start\n",
    "            start = start +1\n",
    "        s = s * (-1)\n",
    "         \n",
    "    print('#%d' %q)\n",
    "    for p in range(M):\n",
    "        for j in range(M):\n",
    "            print(a[p][j], end =' ')\n",
    "        print()"
   ]
  },
  {
   "cell_type": "code",
   "execution_count": null,
   "metadata": {},
   "outputs": [],
   "source": []
  }
 ],
 "metadata": {
  "kernelspec": {
   "display_name": "Python 3",
   "language": "python",
   "name": "python3"
  },
  "language_info": {
   "codemirror_mode": {
    "name": "ipython",
    "version": 3
   },
   "file_extension": ".py",
   "mimetype": "text/x-python",
   "name": "python",
   "nbconvert_exporter": "python",
   "pygments_lexer": "ipython3",
   "version": "3.7.6"
  }
 },
 "nbformat": 4,
 "nbformat_minor": 4
}
