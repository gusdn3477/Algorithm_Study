n = int(input())
for i in range(1,n+1):
    m = int(input())
    cnt = 0
    a = list(map(int, input().split()))
    aver = sum(a)/len(a)
    for j in a:
        if j <= aver:
            cnt = cnt + 1
    print('#%d %d' %(i,cnt))
