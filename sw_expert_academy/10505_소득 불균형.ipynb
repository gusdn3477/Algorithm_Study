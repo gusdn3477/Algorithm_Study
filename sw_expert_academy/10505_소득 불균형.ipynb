{
 "cells": [
  {
   "cell_type": "code",
   "execution_count": null,
   "metadata": {},
   "outputs": [],
   "source": [
    "n = int(input())\n",
    "for i in range(1,n+1):\n",
    "    m = int(input())\n",
    "    cnt = 0\n",
    "    a = list(map(int, input().split()))\n",
    "    aver = sum(a)/len(a)\n",
    "    for j in a:\n",
    "        if j <= aver:\n",
    "            cnt = cnt + 1\n",
    "    print('#%d %d' %(i,cnt))"
   ]
  }
 ],
 "metadata": {
  "kernelspec": {
   "display_name": "Python 3",
   "language": "python",
   "name": "python3"
  },
  "language_info": {
   "codemirror_mode": {
    "name": "ipython",
    "version": 3
   },
   "file_extension": ".py",
   "mimetype": "text/x-python",
   "name": "python",
   "nbconvert_exporter": "python",
   "pygments_lexer": "ipython3",
   "version": "3.7.6"
  }
 },
 "nbformat": 4,
 "nbformat_minor": 4
}
